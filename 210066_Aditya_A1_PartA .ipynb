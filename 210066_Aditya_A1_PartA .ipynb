{
 "cells": [
  {
   "cell_type": "markdown",
   "metadata": {
    "id": "-WuEfEVo2seo"
   },
   "source": [
    "# EE675A - Assignment 1"
   ]
  },
  {
   "cell_type": "markdown",
   "metadata": {
    "id": "i29hbFMG2ses"
   },
   "source": [
    "**Name:*Aditya Nikam*  <Br />\n",
    "**Roll No:*210066*\n",
    "***\n",
    "## Instructions\n",
    "\n",
    "- **Release Date**: **21st Jan 2024**  \n",
    "- **Deadline**: **Part A : 28th Jan 2024 11:59PM**\n",
    "- Kindly name your submission files as `RollNo_Name_A1_PartA.ipynb`, based on the part you are submitting. Marks will be deducted for all submissions that do not follow the naming guidelines. <br />\n",
    "- You are required to work out your answers and submit only the iPython Notebook. The code should be well commented and easy to understand as there are marks for this. This notebook can be used as a template for assignment submission. <br />\n",
    "- Submissions are to be made through HelloIITK portal. Submissions made through mail will not be graded.<br />\n",
    "- Answers to the theory questions if any should be included in the notebook itself. While using special symbols use the $\\LaTeX$ mode <br />\n",
    "- Make sure your plots are clear and have title, legends and clear lines, etc. <br />\n",
    "- Plagiarism of any form will not be tolerated. If your solutions are found to match with other students or from other uncited sources, there will be heavy penalties and the incident will be reported to the disciplinary authorities. <br />\n",
    "- In case you have any doubts, feel free to reach out to TAs for help. <br />"
   ]
  },
  {
   "cell_type": "markdown",
   "metadata": {},
   "source": [
    "***\n",
    "# Part A: Chernoff Bound\n",
    "\n",
    "Suppose $X_1, X_2, \\cdots, X_n$ are i.i.d. copies of a $\\mathcal{N}(0,\\sigma^2)$ r.v. Then for $X = \\frac{1}{n} \\sum_{i=1}^n X_i$ we know that $$ \\mathbb{P} [X \\geq \\epsilon] \\leq \\exp\\left(\\dfrac{-n\\epsilon^2}{2\\sigma^2}\\right)  $$\n",
    "\n",
    "Write a Python code to run Monte Carlo simulations that verify the inequality. Specifically, for a given  $\\epsilon$ and $\\sigma$, generate $n$ samples from the zero mean Gaussian distribution $x_1, x_2, \\dots, x_n$ and check whether the sample average is more than $\\epsilon$. Repeat this experiment 500 times and observe in how many experiments out of those 500 experiments, the sample average is more than $\\epsilon$. This will gives us an empirical estimate of ${P}[X\\geq \\epsilon]$.\n",
    "\n",
    "Take $\\sigma = 0.1,~ \\epsilon = 0.05$, and plot the empirical estimate as a function of $n \\in \\{100, 200, \\dots, 1000\\}$. In the same plot, include the Chernoff upper bound as a function of $n$. `[10 Marks]`"
   ]
  },
  {
   "cell_type": "code",
   "execution_count": 29,
   "metadata": {},
   "outputs": [],
   "source": [
    "# write your code for this part here\n",
    "import numpy as np\n",
    "import matplotlib.pyplot as plt\n",
    "\n",
    "N = np.array(range(1, 51, 1))  # array containing no. of samples\n",
    "\n",
    "# parameters\n",
    "N1 = np.shape(N)[0]             # total no. of samples in one experiment\n",
    "E = 500                         # total no. of experiments\n",
    "epsilon = 0.05\n",
    "sigma = 0.1                     # standard deviation of distribution\n",
    "mean = 0                        # mean of distribution"
   ]
  },
  {
   "cell_type": "code",
   "execution_count": 41,
   "metadata": {},
   "outputs": [],
   "source": [
    "P = np.zeros(N1)        # initializing probability array\n",
    "\n",
    "for i in range(N1):\n",
    "    check = 0           # check for condition- mean >= epsilon\n",
    "    for j in range(E):\n",
    "        data = np.random.normal(mean, sigma, N[i])   # distribution of random variables\n",
    "        M = np.mean(data)\n",
    "        if M >= epsilon:\n",
    "            check +=1   # condition is satisfied\n",
    "    P[i] = check/E \n",
    "CB = np.exp(-(N)*(epsilon**2)/(2*(sigma**2)))  # Chernoff Bound"
   ]
  },
  {
   "cell_type": "code",
   "execution_count": 42,
   "metadata": {},
   "outputs": [
    {
     "data": {
      "image/png": "[encoded data removed]",
      "text/plain": [
       "<Figure size 432x288 with 1 Axes>"
      ]
     },
     "metadata": {
      "needs_background": "light"
     },
     "output_type": "display_data"
    }
   ],
   "source": [
    "## Plots \n",
    "plt.plot(N,P, label='Probability')\n",
    "plt.plot(N,CB, label='Chernoff upper Bound')\n",
    "plt.xlabel('Number of samples')\n",
    "plt.ylabel('Value')\n",
    "plt.title('Probability & Chernoff upper Bound vs number of samples')\n",
    "plt.legend()\n",
    "plt.show()"
   ]
  }
 ],
 "metadata": {
  "colab": {
   "provenance": []
  },
  "kernelspec": {
   "display_name": "Python 3 (ipykernel)",
   "language": "python",
   "name": "python3"
  },
  "language_info": {
   "codemirror_mode": {
    "name": "ipython",
    "version": 3
   },
   "file_extension": ".py",
   "mimetype": "text/x-python",
   "name": "python",
   "nbconvert_exporter": "python",
   "pygments_lexer": "ipython3",
   "version": "3.9.18"
  }
 },
 "nbformat": 4,
 "nbformat_minor": 4
}
